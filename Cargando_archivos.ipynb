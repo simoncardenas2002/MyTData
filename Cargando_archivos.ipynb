{
  "nbformat": 4,
  "nbformat_minor": 0,
  "metadata": {
    "colab": {
      "provenance": []
    },
    "kernelspec": {
      "name": "python3",
      "display_name": "Python 3"
    },
    "language_info": {
      "name": "python"
    }
  },
  "cells": [
    {
      "cell_type": "code",
      "execution_count": null,
      "metadata": {
        "id": "feJNFu4f6ZF4"
      },
      "outputs": [],
      "source": [
        "import numpy as np"
      ]
    },
    {
      "cell_type": "code",
      "source": [
        "lista=[1,2]\n",
        "lista *2"
      ],
      "metadata": {
        "colab": {
          "base_uri": "https://localhost:8080/"
        },
        "id": "D1j4foGd6bU6",
        "outputId": "9292854f-8c3a-499f-b072-5026252fc327"
      },
      "execution_count": null,
      "outputs": [
        {
          "output_type": "execute_result",
          "data": {
            "text/plain": [
              "[1, 2, 1, 2]"
            ]
          },
          "metadata": {},
          "execution_count": 7
        }
      ]
    },
    {
      "cell_type": "code",
      "source": [
        "arr=np.arange(0,10)\n",
        "arr2=arr.copy()"
      ],
      "metadata": {
        "id": "CK8ViiUa6xHL"
      },
      "execution_count": null,
      "outputs": []
    },
    {
      "cell_type": "markdown",
      "source": [
        "Operaciones"
      ],
      "metadata": {
        "id": "RDv7BNJx64Z2"
      }
    },
    {
      "cell_type": "code",
      "source": [
        "arr *2"
      ],
      "metadata": {
        "colab": {
          "base_uri": "https://localhost:8080/"
        },
        "id": "QciLwcRv66EL",
        "outputId": "43c19ac2-2cf4-44cc-f6b5-9622bb06a447"
      },
      "execution_count": null,
      "outputs": [
        {
          "output_type": "execute_result",
          "data": {
            "text/plain": [
              "array([ 0,  2,  4,  6,  8, 10, 12, 14, 16, 18])"
            ]
          },
          "metadata": {},
          "execution_count": 6
        }
      ]
    },
    {
      "cell_type": "code",
      "source": [
        "1/arr"
      ],
      "metadata": {
        "colab": {
          "base_uri": "https://localhost:8080/"
        },
        "id": "OfbogsPK7bUY",
        "outputId": "099af31c-88fe-44bd-d255-0c1cef6ce8a7"
      },
      "execution_count": null,
      "outputs": [
        {
          "output_type": "stream",
          "name": "stderr",
          "text": [
            "<ipython-input-8-016353831300>:1: RuntimeWarning: divide by zero encountered in true_divide\n",
            "  1/arr\n"
          ]
        },
        {
          "output_type": "execute_result",
          "data": {
            "text/plain": [
              "array([       inf, 1.        , 0.5       , 0.33333333, 0.25      ,\n",
              "       0.2       , 0.16666667, 0.14285714, 0.125     , 0.11111111])"
            ]
          },
          "metadata": {},
          "execution_count": 8
        }
      ]
    },
    {
      "cell_type": "code",
      "source": [
        "arr + arr2\n",
        "arr* arr2"
      ],
      "metadata": {
        "colab": {
          "base_uri": "https://localhost:8080/"
        },
        "id": "xkfJWZeE7elq",
        "outputId": "3c198b6c-59ea-4f78-f6ce-55e0a7cb9149"
      },
      "execution_count": null,
      "outputs": [
        {
          "output_type": "execute_result",
          "data": {
            "text/plain": [
              "array([ 0,  1,  4,  9, 16, 25, 36, 49, 64, 81])"
            ]
          },
          "metadata": {},
          "execution_count": 10
        }
      ]
    },
    {
      "cell_type": "code",
      "source": [
        "matriz=arr.reshape(2,5)\n",
        "matriz2=matriz.copy()"
      ],
      "metadata": {
        "id": "u8aHLRdv7t24"
      },
      "execution_count": null,
      "outputs": []
    },
    {
      "cell_type": "markdown",
      "source": [
        "# Cargando archivos"
      ],
      "metadata": {
        "id": "3jLVOEcWU6ka"
      }
    },
    {
      "cell_type": "code",
      "source": [
        "import pandas as pd"
      ],
      "metadata": {
        "id": "EmQSXwRfU_x6"
      },
      "execution_count": null,
      "outputs": []
    },
    {
      "cell_type": "code",
      "source": [
        "df1=pd.read_csv(\"/content/bestsellers-with-categories_e591527f-ae45-4fa5-b0d1-d50142128fa6.csv\")"
      ],
      "metadata": {
        "id": "UTbAfXD1VgGO"
      },
      "execution_count": null,
      "outputs": []
    },
    {
      "cell_type": "code",
      "source": [
        "df2=pd.read_json(\"/content/HPCharactersDataRaw.json\")"
      ],
      "metadata": {
        "id": "JcCglVxSWCKo"
      },
      "execution_count": null,
      "outputs": []
    },
    {
      "cell_type": "code",
      "source": [
        "#Puedo obtener diferente información por parte del dataframe\n",
        "df1.columns"
      ],
      "metadata": {
        "colab": {
          "base_uri": "https://localhost:8080/"
        },
        "id": "8EJQ9yHHWeoY",
        "outputId": "a97a38e3-9f09-40e2-9c86-ce003a421a02"
      },
      "execution_count": null,
      "outputs": [
        {
          "output_type": "execute_result",
          "data": {
            "text/plain": [
              "Index(['Name', 'Author', 'User Rating', 'Reviews', 'Price', 'Year', 'Genre'], dtype='object')"
            ]
          },
          "metadata": {},
          "execution_count": 20
        }
      ]
    },
    {
      "cell_type": "markdown",
      "source": [
        "Series Y dataframes\n"
      ],
      "metadata": {
        "id": "RSnaCo9hX-Gx"
      }
    },
    {
      "cell_type": "code",
      "source": [
        "family=pd.Series([\"Simon\",\"Salo\",\"Wilson\",\"Angela\",\"Manu\"],\n",
        "                 index=[1,3,5,7,9])"
      ],
      "metadata": {
        "id": "pr6_wykSYhuH"
      },
      "execution_count": null,
      "outputs": []
    },
    {
      "cell_type": "code",
      "source": [
        "#Tambien se puede declarar dandole un diccionario como parámetro\n",
        "pd.Series(diccionario)"
      ],
      "metadata": {
        "colab": {
          "base_uri": "https://localhost:8080/"
        },
        "id": "G42ZP7EoZHjC",
        "outputId": "f4df3010-5c22-4dd7-ef3b-797970892050"
      },
      "execution_count": null,
      "outputs": [
        {
          "output_type": "execute_result",
          "data": {
            "text/plain": [
              "1     Simon\n",
              "3      Salo\n",
              "5    Wilson\n",
              "7    Angela\n",
              "9      Manu\n",
              "dtype: object"
            ]
          },
          "metadata": {},
          "execution_count": 23
        }
      ]
    },
    {
      "cell_type": "code",
      "source": [],
      "metadata": {
        "id": "AfgmsWbzZaL7"
      },
      "execution_count": null,
      "outputs": []
    }
  ]
}