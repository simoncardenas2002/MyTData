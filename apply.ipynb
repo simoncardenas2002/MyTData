{
 "cells": [
  {
   "cell_type": "code",
   "execution_count": 1,
   "metadata": {},
   "outputs": [],
   "source": [
    "import pandas as pd\n",
    "import numpy as np  "
   ]
  },
  {
   "attachments": {},
   "cell_type": "markdown",
   "metadata": {},
   "source": [
    "## Apply\n",
    "Me permite aplicar una función a una columna o conjunto de columnas del dataframe, es una solución mas veloz y eficiente que cualquier ciclo"
   ]
  },
  {
   "cell_type": "code",
   "execution_count": 2,
   "metadata": {},
   "outputs": [],
   "source": [
    "def two_times(value):\n",
    "    return value * 2"
   ]
  },
  {
   "cell_type": "code",
   "execution_count": 6,
   "metadata": {},
   "outputs": [
    {
     "name": "stderr",
     "output_type": "stream",
     "text": [
      "/tmp/ipykernel_1421/3879073263.py:1: FutureWarning: In a future version of pandas all arguments of read_csv except for the argument 'filepath_or_buffer' will be keyword-only.\n",
      "  df=pd.read_csv(\"countries_gdp_hist.csv\",\";\")\n"
     ]
    },
    {
     "data": {
      "text/html": [
       "<div>\n",
       "<style scoped>\n",
       "    .dataframe tbody tr th:only-of-type {\n",
       "        vertical-align: middle;\n",
       "    }\n",
       "\n",
       "    .dataframe tbody tr th {\n",
       "        vertical-align: top;\n",
       "    }\n",
       "\n",
       "    .dataframe thead th {\n",
       "        text-align: right;\n",
       "    }\n",
       "</style>\n",
       "<table border=\"1\" class=\"dataframe\">\n",
       "  <thead>\n",
       "    <tr style=\"text-align: right;\">\n",
       "      <th></th>\n",
       "      <th>country_code</th>\n",
       "      <th>region_name</th>\n",
       "      <th>sub_region_name</th>\n",
       "      <th>intermediate_region</th>\n",
       "      <th>country_name</th>\n",
       "      <th>income_group</th>\n",
       "      <th>year</th>\n",
       "      <th>total_gdp</th>\n",
       "      <th>total_gdp_million</th>\n",
       "      <th>gdp_variation</th>\n",
       "    </tr>\n",
       "  </thead>\n",
       "  <tbody>\n",
       "    <tr>\n",
       "      <th>0</th>\n",
       "      <td>ABW</td>\n",
       "      <td>Americas</td>\n",
       "      <td>Latin America and the Caribbean</td>\n",
       "      <td>Caribbean</td>\n",
       "      <td>Aruba</td>\n",
       "      <td>Ingreso alto</td>\n",
       "      <td>1960</td>\n",
       "      <td>0.0</td>\n",
       "      <td>0.0</td>\n",
       "      <td>0.0</td>\n",
       "    </tr>\n",
       "    <tr>\n",
       "      <th>1</th>\n",
       "      <td>ABW</td>\n",
       "      <td>Americas</td>\n",
       "      <td>Latin America and the Caribbean</td>\n",
       "      <td>Caribbean</td>\n",
       "      <td>Aruba</td>\n",
       "      <td>Ingreso alto</td>\n",
       "      <td>1961</td>\n",
       "      <td>0.0</td>\n",
       "      <td>0.0</td>\n",
       "      <td>0.0</td>\n",
       "    </tr>\n",
       "    <tr>\n",
       "      <th>2</th>\n",
       "      <td>ABW</td>\n",
       "      <td>Americas</td>\n",
       "      <td>Latin America and the Caribbean</td>\n",
       "      <td>Caribbean</td>\n",
       "      <td>Aruba</td>\n",
       "      <td>Ingreso alto</td>\n",
       "      <td>1962</td>\n",
       "      <td>0.0</td>\n",
       "      <td>0.0</td>\n",
       "      <td>0.0</td>\n",
       "    </tr>\n",
       "  </tbody>\n",
       "</table>\n",
       "</div>"
      ],
      "text/plain": [
       "  country_code region_name                  sub_region_name  \\\n",
       "0          ABW    Americas  Latin America and the Caribbean   \n",
       "1          ABW    Americas  Latin America and the Caribbean   \n",
       "2          ABW    Americas  Latin America and the Caribbean   \n",
       "\n",
       "  intermediate_region country_name  income_group  year  total_gdp  \\\n",
       "0           Caribbean        Aruba  Ingreso alto  1960        0.0   \n",
       "1           Caribbean        Aruba  Ingreso alto  1961        0.0   \n",
       "2           Caribbean        Aruba  Ingreso alto  1962        0.0   \n",
       "\n",
       "   total_gdp_million  gdp_variation  \n",
       "0                0.0            0.0  \n",
       "1                0.0            0.0  \n",
       "2                0.0            0.0  "
      ]
     },
     "execution_count": 6,
     "metadata": {},
     "output_type": "execute_result"
    }
   ],
   "source": [
    "df=pd.read_csv(\"countries_gdp_hist.csv\",\";\")\n",
    "df.head(3)"
   ]
  },
  {
   "cell_type": "code",
   "execution_count": 8,
   "metadata": {},
   "outputs": [],
   "source": [
    "df[\"total_gdp_new\"]=df[\"total_gdp\"].apply(two_times)"
   ]
  },
  {
   "cell_type": "code",
   "execution_count": 9,
   "metadata": {},
   "outputs": [
    {
     "data": {
      "text/html": [
       "<div>\n",
       "<style scoped>\n",
       "    .dataframe tbody tr th:only-of-type {\n",
       "        vertical-align: middle;\n",
       "    }\n",
       "\n",
       "    .dataframe tbody tr th {\n",
       "        vertical-align: top;\n",
       "    }\n",
       "\n",
       "    .dataframe thead th {\n",
       "        text-align: right;\n",
       "    }\n",
       "</style>\n",
       "<table border=\"1\" class=\"dataframe\">\n",
       "  <thead>\n",
       "    <tr style=\"text-align: right;\">\n",
       "      <th></th>\n",
       "      <th>country_code</th>\n",
       "      <th>region_name</th>\n",
       "      <th>sub_region_name</th>\n",
       "      <th>intermediate_region</th>\n",
       "      <th>country_name</th>\n",
       "      <th>income_group</th>\n",
       "      <th>year</th>\n",
       "      <th>total_gdp</th>\n",
       "      <th>total_gdp_million</th>\n",
       "      <th>gdp_variation</th>\n",
       "      <th>total_gdp_new</th>\n",
       "    </tr>\n",
       "  </thead>\n",
       "  <tbody>\n",
       "    <tr>\n",
       "      <th>13325</th>\n",
       "      <td>ZWE</td>\n",
       "      <td>Africa</td>\n",
       "      <td>Sub-Saharan Africa</td>\n",
       "      <td>Eastern Africa</td>\n",
       "      <td>Zimbabwe</td>\n",
       "      <td>Países de ingreso mediano bajo</td>\n",
       "      <td>2017</td>\n",
       "      <td>1.758489e+10</td>\n",
       "      <td>17584.890937</td>\n",
       "      <td>4.080264</td>\n",
       "      <td>3.516978e+10</td>\n",
       "    </tr>\n",
       "    <tr>\n",
       "      <th>13326</th>\n",
       "      <td>ZWE</td>\n",
       "      <td>Africa</td>\n",
       "      <td>Sub-Saharan Africa</td>\n",
       "      <td>Eastern Africa</td>\n",
       "      <td>Zimbabwe</td>\n",
       "      <td>Países de ingreso mediano bajo</td>\n",
       "      <td>2018</td>\n",
       "      <td>3.415607e+10</td>\n",
       "      <td>34156.069918</td>\n",
       "      <td>5.009867</td>\n",
       "      <td>6.831214e+10</td>\n",
       "    </tr>\n",
       "    <tr>\n",
       "      <th>13327</th>\n",
       "      <td>ZWE</td>\n",
       "      <td>Africa</td>\n",
       "      <td>Sub-Saharan Africa</td>\n",
       "      <td>Eastern Africa</td>\n",
       "      <td>Zimbabwe</td>\n",
       "      <td>Países de ingreso mediano bajo</td>\n",
       "      <td>2019</td>\n",
       "      <td>2.183223e+10</td>\n",
       "      <td>21832.234926</td>\n",
       "      <td>-6.332446</td>\n",
       "      <td>4.366447e+10</td>\n",
       "    </tr>\n",
       "    <tr>\n",
       "      <th>13328</th>\n",
       "      <td>ZWE</td>\n",
       "      <td>Africa</td>\n",
       "      <td>Sub-Saharan Africa</td>\n",
       "      <td>Eastern Africa</td>\n",
       "      <td>Zimbabwe</td>\n",
       "      <td>Países de ingreso mediano bajo</td>\n",
       "      <td>2020</td>\n",
       "      <td>2.150970e+10</td>\n",
       "      <td>21509.698406</td>\n",
       "      <td>-7.816951</td>\n",
       "      <td>4.301940e+10</td>\n",
       "    </tr>\n",
       "    <tr>\n",
       "      <th>13329</th>\n",
       "      <td>ZWE</td>\n",
       "      <td>Africa</td>\n",
       "      <td>Sub-Saharan Africa</td>\n",
       "      <td>Eastern Africa</td>\n",
       "      <td>Zimbabwe</td>\n",
       "      <td>Países de ingreso mediano bajo</td>\n",
       "      <td>2021</td>\n",
       "      <td>2.837124e+10</td>\n",
       "      <td>28371.238666</td>\n",
       "      <td>8.468017</td>\n",
       "      <td>5.674248e+10</td>\n",
       "    </tr>\n",
       "  </tbody>\n",
       "</table>\n",
       "</div>"
      ],
      "text/plain": [
       "      country_code region_name     sub_region_name intermediate_region  \\\n",
       "13325          ZWE      Africa  Sub-Saharan Africa      Eastern Africa   \n",
       "13326          ZWE      Africa  Sub-Saharan Africa      Eastern Africa   \n",
       "13327          ZWE      Africa  Sub-Saharan Africa      Eastern Africa   \n",
       "13328          ZWE      Africa  Sub-Saharan Africa      Eastern Africa   \n",
       "13329          ZWE      Africa  Sub-Saharan Africa      Eastern Africa   \n",
       "\n",
       "      country_name                    income_group  year     total_gdp  \\\n",
       "13325     Zimbabwe  Países de ingreso mediano bajo  2017  1.758489e+10   \n",
       "13326     Zimbabwe  Países de ingreso mediano bajo  2018  3.415607e+10   \n",
       "13327     Zimbabwe  Países de ingreso mediano bajo  2019  2.183223e+10   \n",
       "13328     Zimbabwe  Países de ingreso mediano bajo  2020  2.150970e+10   \n",
       "13329     Zimbabwe  Países de ingreso mediano bajo  2021  2.837124e+10   \n",
       "\n",
       "       total_gdp_million  gdp_variation  total_gdp_new  \n",
       "13325       17584.890937       4.080264   3.516978e+10  \n",
       "13326       34156.069918       5.009867   6.831214e+10  \n",
       "13327       21832.234926      -6.332446   4.366447e+10  \n",
       "13328       21509.698406      -7.816951   4.301940e+10  \n",
       "13329       28371.238666       8.468017   5.674248e+10  "
      ]
     },
     "execution_count": 9,
     "metadata": {},
     "output_type": "execute_result"
    }
   ],
   "source": [
    "df.tail(5)"
   ]
  },
  {
   "cell_type": "code",
   "execution_count": 11,
   "metadata": {},
   "outputs": [
    {
     "ename": "TypeError",
     "evalue": "'float' object is not subscriptable",
     "output_type": "error",
     "traceback": [
      "\u001b[0;31m---------------------------------------------------------------------------\u001b[0m",
      "\u001b[0;31mTypeError\u001b[0m                                 Traceback (most recent call last)",
      "Cell \u001b[0;32mIn[11], line 2\u001b[0m\n\u001b[1;32m      1\u001b[0m \u001b[39m#Tambien funciona con funciones tipo lamba\u001b[39;00m\n\u001b[0;32m----> 2\u001b[0m df[\u001b[39m\"\u001b[39;49m\u001b[39mtotal_gdp\u001b[39;49m\u001b[39m\"\u001b[39;49m]\u001b[39m.\u001b[39;49mapply(\u001b[39mlambda\u001b[39;49;00m x:x[\u001b[39m\"\u001b[39;49m\u001b[39mtotal_gdp\u001b[39;49m\u001b[39m\"\u001b[39;49m]\u001b[39m*\u001b[39;49m\u001b[39m2\u001b[39;49m \u001b[39mif\u001b[39;49;00m x[\u001b[39m\"\u001b[39;49m\u001b[39mregion_name\u001b[39;49m\u001b[39m\"\u001b[39;49m]\u001b[39m==\u001b[39;49m\u001b[39m\"\u001b[39;49m\u001b[39mAfrica\u001b[39;49m\u001b[39m\"\u001b[39;49m \u001b[39melse\u001b[39;49;00m x[\u001b[39m\"\u001b[39;49m\u001b[39mtotal_gdp\u001b[39;49m\u001b[39m\"\u001b[39;49m])\n",
      "File \u001b[0;32m~/.local/lib/python3.10/site-packages/pandas/core/series.py:4771\u001b[0m, in \u001b[0;36mSeries.apply\u001b[0;34m(self, func, convert_dtype, args, **kwargs)\u001b[0m\n\u001b[1;32m   4661\u001b[0m \u001b[39mdef\u001b[39;00m \u001b[39mapply\u001b[39m(\n\u001b[1;32m   4662\u001b[0m     \u001b[39mself\u001b[39m,\n\u001b[1;32m   4663\u001b[0m     func: AggFuncType,\n\u001b[0;32m   (...)\u001b[0m\n\u001b[1;32m   4666\u001b[0m     \u001b[39m*\u001b[39m\u001b[39m*\u001b[39mkwargs,\n\u001b[1;32m   4667\u001b[0m ) \u001b[39m-\u001b[39m\u001b[39m>\u001b[39m DataFrame \u001b[39m|\u001b[39m Series:\n\u001b[1;32m   4668\u001b[0m \u001b[39m    \u001b[39m\u001b[39m\"\"\"\u001b[39;00m\n\u001b[1;32m   4669\u001b[0m \u001b[39m    Invoke function on values of Series.\u001b[39;00m\n\u001b[1;32m   4670\u001b[0m \n\u001b[0;32m   (...)\u001b[0m\n\u001b[1;32m   4769\u001b[0m \u001b[39m    dtype: float64\u001b[39;00m\n\u001b[1;32m   4770\u001b[0m \u001b[39m    \"\"\"\u001b[39;00m\n\u001b[0;32m-> 4771\u001b[0m     \u001b[39mreturn\u001b[39;00m SeriesApply(\u001b[39mself\u001b[39;49m, func, convert_dtype, args, kwargs)\u001b[39m.\u001b[39;49mapply()\n",
      "File \u001b[0;32m~/.local/lib/python3.10/site-packages/pandas/core/apply.py:1123\u001b[0m, in \u001b[0;36mSeriesApply.apply\u001b[0;34m(self)\u001b[0m\n\u001b[1;32m   1120\u001b[0m     \u001b[39mreturn\u001b[39;00m \u001b[39mself\u001b[39m\u001b[39m.\u001b[39mapply_str()\n\u001b[1;32m   1122\u001b[0m \u001b[39m# self.f is Callable\u001b[39;00m\n\u001b[0;32m-> 1123\u001b[0m \u001b[39mreturn\u001b[39;00m \u001b[39mself\u001b[39;49m\u001b[39m.\u001b[39;49mapply_standard()\n",
      "File \u001b[0;32m~/.local/lib/python3.10/site-packages/pandas/core/apply.py:1174\u001b[0m, in \u001b[0;36mSeriesApply.apply_standard\u001b[0;34m(self)\u001b[0m\n\u001b[1;32m   1172\u001b[0m     \u001b[39melse\u001b[39;00m:\n\u001b[1;32m   1173\u001b[0m         values \u001b[39m=\u001b[39m obj\u001b[39m.\u001b[39mastype(\u001b[39mobject\u001b[39m)\u001b[39m.\u001b[39m_values\n\u001b[0;32m-> 1174\u001b[0m         mapped \u001b[39m=\u001b[39m lib\u001b[39m.\u001b[39;49mmap_infer(\n\u001b[1;32m   1175\u001b[0m             values,\n\u001b[1;32m   1176\u001b[0m             f,\n\u001b[1;32m   1177\u001b[0m             convert\u001b[39m=\u001b[39;49m\u001b[39mself\u001b[39;49m\u001b[39m.\u001b[39;49mconvert_dtype,\n\u001b[1;32m   1178\u001b[0m         )\n\u001b[1;32m   1180\u001b[0m \u001b[39mif\u001b[39;00m \u001b[39mlen\u001b[39m(mapped) \u001b[39mand\u001b[39;00m \u001b[39misinstance\u001b[39m(mapped[\u001b[39m0\u001b[39m], ABCSeries):\n\u001b[1;32m   1181\u001b[0m     \u001b[39m# GH#43986 Need to do list(mapped) in order to get treated as nested\u001b[39;00m\n\u001b[1;32m   1182\u001b[0m     \u001b[39m#  See also GH#25959 regarding EA support\u001b[39;00m\n\u001b[1;32m   1183\u001b[0m     \u001b[39mreturn\u001b[39;00m obj\u001b[39m.\u001b[39m_constructor_expanddim(\u001b[39mlist\u001b[39m(mapped), index\u001b[39m=\u001b[39mobj\u001b[39m.\u001b[39mindex)\n",
      "File \u001b[0;32m~/.local/lib/python3.10/site-packages/pandas/_libs/lib.pyx:2924\u001b[0m, in \u001b[0;36mpandas._libs.lib.map_infer\u001b[0;34m()\u001b[0m\n",
      "Cell \u001b[0;32mIn[11], line 2\u001b[0m, in \u001b[0;36m<lambda>\u001b[0;34m(x)\u001b[0m\n\u001b[1;32m      1\u001b[0m \u001b[39m#Tambien funciona con funciones tipo lamba\u001b[39;00m\n\u001b[0;32m----> 2\u001b[0m df[\u001b[39m\"\u001b[39m\u001b[39mtotal_gdp\u001b[39m\u001b[39m\"\u001b[39m]\u001b[39m.\u001b[39mapply(\u001b[39mlambda\u001b[39;00m x:x[\u001b[39m\"\u001b[39m\u001b[39mtotal_gdp\u001b[39m\u001b[39m\"\u001b[39m]\u001b[39m*\u001b[39m\u001b[39m2\u001b[39m \u001b[39mif\u001b[39;00m x[\u001b[39m\"\u001b[39;49m\u001b[39mregion_name\u001b[39;49m\u001b[39m\"\u001b[39;49m]\u001b[39m==\u001b[39m\u001b[39m\"\u001b[39m\u001b[39mAfrica\u001b[39m\u001b[39m\"\u001b[39m \u001b[39melse\u001b[39;00m x[\u001b[39m\"\u001b[39m\u001b[39mtotal_gdp\u001b[39m\u001b[39m\"\u001b[39m])\n",
      "\u001b[0;31mTypeError\u001b[0m: 'float' object is not subscriptable"
     ]
    }
   ],
   "source": [
    "#Tambien funciona con funciones tipo lamba\n",
    "df[\"total_gdp\"].apply(lambda x:x[\"total_gdp\"]*2 if x[\"region_name\"]==\"Africa\" else x[\"total_gdp\"])"
   ]
  }
 ],
 "metadata": {
  "kernelspec": {
   "display_name": "Python 3",
   "language": "python",
   "name": "python3"
  },
  "language_info": {
   "codemirror_mode": {
    "name": "ipython",
    "version": 3
   },
   "file_extension": ".py",
   "mimetype": "text/x-python",
   "name": "python",
   "nbconvert_exporter": "python",
   "pygments_lexer": "ipython3",
   "version": "3.10.6"
  },
  "orig_nbformat": 4,
  "vscode": {
   "interpreter": {
    "hash": "c51e74775d170b674c683c3b472b24b6ebdce5fd524e4972620100024feb3ed5"
   }
  }
 },
 "nbformat": 4,
 "nbformat_minor": 2
}
