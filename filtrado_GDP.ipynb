{
 "cells": [
  {
   "cell_type": "code",
   "execution_count": 1,
   "metadata": {},
   "outputs": [],
   "source": [
    "import pandas as pd\n",
    "import numpy as np"
   ]
  },
  {
   "cell_type": "code",
   "execution_count": 3,
   "metadata": {},
   "outputs": [
    {
     "name": "stderr",
     "output_type": "stream",
     "text": [
      "/tmp/ipykernel_2371/3538657011.py:1: FutureWarning: In a future version of pandas all arguments of read_csv except for the argument 'filepath_or_buffer' will be keyword-only.\n",
      "  df=pd.read_csv(\"countries_gdp_hist.csv\",\";\")\n"
     ]
    }
   ],
   "source": [
    "#leo el dataframe de datos, específicando el delimitador\n",
    "df=pd.read_csv(\"countries_gdp_hist.csv\",\";\")"
   ]
  },
  {
   "cell_type": "code",
   "execution_count": 5,
   "metadata": {},
   "outputs": [
    {
     "name": "stdout",
     "output_type": "stream",
     "text": [
      "<class 'pandas.core.frame.DataFrame'>\n",
      "RangeIndex: 13330 entries, 0 to 13329\n",
      "Data columns (total 10 columns):\n",
      " #   Column               Non-Null Count  Dtype  \n",
      "---  ------               --------------  -----  \n",
      " 0   country_code         13330 non-null  object \n",
      " 1   region_name          13330 non-null  object \n",
      " 2   sub_region_name      13330 non-null  object \n",
      " 3   intermediate_region  13330 non-null  object \n",
      " 4   country_name         13330 non-null  object \n",
      " 5   income_group         13330 non-null  object \n",
      " 6   year                 13330 non-null  int64  \n",
      " 7   total_gdp            13330 non-null  float64\n",
      " 8   total_gdp_million    13330 non-null  float64\n",
      " 9   gdp_variation        13330 non-null  float64\n",
      "dtypes: float64(3), int64(1), object(6)\n",
      "memory usage: 1.0+ MB\n"
     ]
    }
   ],
   "source": [
    "df.info()"
   ]
  },
  {
   "cell_type": "code",
   "execution_count": 6,
   "metadata": {},
   "outputs": [
    {
     "data": {
      "text/html": [
       "<div>\n",
       "<style scoped>\n",
       "    .dataframe tbody tr th:only-of-type {\n",
       "        vertical-align: middle;\n",
       "    }\n",
       "\n",
       "    .dataframe tbody tr th {\n",
       "        vertical-align: top;\n",
       "    }\n",
       "\n",
       "    .dataframe thead th {\n",
       "        text-align: right;\n",
       "    }\n",
       "</style>\n",
       "<table border=\"1\" class=\"dataframe\">\n",
       "  <thead>\n",
       "    <tr style=\"text-align: right;\">\n",
       "      <th></th>\n",
       "      <th>year</th>\n",
       "      <th>total_gdp</th>\n",
       "      <th>total_gdp_million</th>\n",
       "      <th>gdp_variation</th>\n",
       "    </tr>\n",
       "  </thead>\n",
       "  <tbody>\n",
       "    <tr>\n",
       "      <th>count</th>\n",
       "      <td>13330.000000</td>\n",
       "      <td>1.333000e+04</td>\n",
       "      <td>1.333000e+04</td>\n",
       "      <td>13330.000000</td>\n",
       "    </tr>\n",
       "    <tr>\n",
       "      <th>mean</th>\n",
       "      <td>1990.500000</td>\n",
       "      <td>1.429386e+11</td>\n",
       "      <td>1.429386e+05</td>\n",
       "      <td>2.688196</td>\n",
       "    </tr>\n",
       "    <tr>\n",
       "      <th>std</th>\n",
       "      <td>17.896201</td>\n",
       "      <td>8.769979e+11</td>\n",
       "      <td>8.769979e+05</td>\n",
       "      <td>5.675320</td>\n",
       "    </tr>\n",
       "    <tr>\n",
       "      <th>min</th>\n",
       "      <td>1960.000000</td>\n",
       "      <td>0.000000e+00</td>\n",
       "      <td>0.000000e+00</td>\n",
       "      <td>-64.047107</td>\n",
       "    </tr>\n",
       "    <tr>\n",
       "      <th>25%</th>\n",
       "      <td>1975.000000</td>\n",
       "      <td>1.152238e+08</td>\n",
       "      <td>1.152238e+02</td>\n",
       "      <td>0.000000</td>\n",
       "    </tr>\n",
       "    <tr>\n",
       "      <th>50%</th>\n",
       "      <td>1990.500000</td>\n",
       "      <td>3.189443e+09</td>\n",
       "      <td>3.189443e+03</td>\n",
       "      <td>2.024117</td>\n",
       "    </tr>\n",
       "    <tr>\n",
       "      <th>75%</th>\n",
       "      <td>2006.000000</td>\n",
       "      <td>2.746324e+10</td>\n",
       "      <td>2.746324e+04</td>\n",
       "      <td>5.271668</td>\n",
       "    </tr>\n",
       "    <tr>\n",
       "      <th>max</th>\n",
       "      <td>2021.000000</td>\n",
       "      <td>2.331508e+13</td>\n",
       "      <td>2.331508e+07</td>\n",
       "      <td>149.972963</td>\n",
       "    </tr>\n",
       "  </tbody>\n",
       "</table>\n",
       "</div>"
      ],
      "text/plain": [
       "               year     total_gdp  total_gdp_million  gdp_variation\n",
       "count  13330.000000  1.333000e+04       1.333000e+04   13330.000000\n",
       "mean    1990.500000  1.429386e+11       1.429386e+05       2.688196\n",
       "std       17.896201  8.769979e+11       8.769979e+05       5.675320\n",
       "min     1960.000000  0.000000e+00       0.000000e+00     -64.047107\n",
       "25%     1975.000000  1.152238e+08       1.152238e+02       0.000000\n",
       "50%     1990.500000  3.189443e+09       3.189443e+03       2.024117\n",
       "75%     2006.000000  2.746324e+10       2.746324e+04       5.271668\n",
       "max     2021.000000  2.331508e+13       2.331508e+07     149.972963"
      ]
     },
     "execution_count": 6,
     "metadata": {},
     "output_type": "execute_result"
    }
   ],
   "source": [
    "df.describe()"
   ]
  },
  {
   "cell_type": "code",
   "execution_count": 7,
   "metadata": {},
   "outputs": [
    {
     "data": {
      "text/plain": [
       "Africa      3348\n",
       "Asia        3100\n",
       "Americas    2852\n",
       "Europe      2852\n",
       "Oceania     1178\n",
       "Name: region_name, dtype: int64"
      ]
     },
     "execution_count": 7,
     "metadata": {},
     "output_type": "execute_result"
    }
   ],
   "source": [
    "df[\"region_name\"].value_counts()"
   ]
  },
  {
   "cell_type": "code",
   "execution_count": 13,
   "metadata": {},
   "outputs": [
    {
     "name": "stdout",
     "output_type": "stream",
     "text": [
      "1960    215\n",
      "1989    215\n",
      "1962    215\n",
      "1963    215\n",
      "1964    215\n",
      "       ... \n",
      "2017    215\n",
      "2018    215\n",
      "2019    215\n",
      "2007    215\n",
      "2021    215\n",
      "Name: year, Length: 62, dtype: int64\n",
      "(62,)\n"
     ]
    }
   ],
   "source": [
    "info_year=df[\"year\"].value_counts().sort_values()\n",
    "print(info_year)\n",
    "print(info_year.shape)\n"
   ]
  },
  {
   "attachments": {},
   "cell_type": "markdown",
   "metadata": {},
   "source": [
    "Por tanto ya se que tengo información de 62 años distintos, desde 1960 hasta 2021"
   ]
  },
  {
   "cell_type": "code",
   "execution_count": 14,
   "metadata": {},
   "outputs": [
    {
     "data": {
      "text/html": [
       "<div>\n",
       "<style scoped>\n",
       "    .dataframe tbody tr th:only-of-type {\n",
       "        vertical-align: middle;\n",
       "    }\n",
       "\n",
       "    .dataframe tbody tr th {\n",
       "        vertical-align: top;\n",
       "    }\n",
       "\n",
       "    .dataframe thead th {\n",
       "        text-align: right;\n",
       "    }\n",
       "</style>\n",
       "<table border=\"1\" class=\"dataframe\">\n",
       "  <thead>\n",
       "    <tr style=\"text-align: right;\">\n",
       "      <th></th>\n",
       "      <th>country_code</th>\n",
       "      <th>region_name</th>\n",
       "      <th>sub_region_name</th>\n",
       "      <th>intermediate_region</th>\n",
       "      <th>country_name</th>\n",
       "      <th>income_group</th>\n",
       "      <th>year</th>\n",
       "      <th>total_gdp</th>\n",
       "      <th>total_gdp_million</th>\n",
       "      <th>gdp_variation</th>\n",
       "    </tr>\n",
       "  </thead>\n",
       "  <tbody>\n",
       "    <tr>\n",
       "      <th>0</th>\n",
       "      <td>ABW</td>\n",
       "      <td>Americas</td>\n",
       "      <td>Latin America and the Caribbean</td>\n",
       "      <td>Caribbean</td>\n",
       "      <td>Aruba</td>\n",
       "      <td>Ingreso alto</td>\n",
       "      <td>1960</td>\n",
       "      <td>0.000000e+00</td>\n",
       "      <td>0.000000</td>\n",
       "      <td>0.000000</td>\n",
       "    </tr>\n",
       "    <tr>\n",
       "      <th>1</th>\n",
       "      <td>ABW</td>\n",
       "      <td>Americas</td>\n",
       "      <td>Latin America and the Caribbean</td>\n",
       "      <td>Caribbean</td>\n",
       "      <td>Aruba</td>\n",
       "      <td>Ingreso alto</td>\n",
       "      <td>1961</td>\n",
       "      <td>0.000000e+00</td>\n",
       "      <td>0.000000</td>\n",
       "      <td>0.000000</td>\n",
       "    </tr>\n",
       "    <tr>\n",
       "      <th>2</th>\n",
       "      <td>ABW</td>\n",
       "      <td>Americas</td>\n",
       "      <td>Latin America and the Caribbean</td>\n",
       "      <td>Caribbean</td>\n",
       "      <td>Aruba</td>\n",
       "      <td>Ingreso alto</td>\n",
       "      <td>1962</td>\n",
       "      <td>0.000000e+00</td>\n",
       "      <td>0.000000</td>\n",
       "      <td>0.000000</td>\n",
       "    </tr>\n",
       "    <tr>\n",
       "      <th>3</th>\n",
       "      <td>ABW</td>\n",
       "      <td>Americas</td>\n",
       "      <td>Latin America and the Caribbean</td>\n",
       "      <td>Caribbean</td>\n",
       "      <td>Aruba</td>\n",
       "      <td>Ingreso alto</td>\n",
       "      <td>1963</td>\n",
       "      <td>0.000000e+00</td>\n",
       "      <td>0.000000</td>\n",
       "      <td>0.000000</td>\n",
       "    </tr>\n",
       "    <tr>\n",
       "      <th>4</th>\n",
       "      <td>ABW</td>\n",
       "      <td>Americas</td>\n",
       "      <td>Latin America and the Caribbean</td>\n",
       "      <td>Caribbean</td>\n",
       "      <td>Aruba</td>\n",
       "      <td>Ingreso alto</td>\n",
       "      <td>1964</td>\n",
       "      <td>0.000000e+00</td>\n",
       "      <td>0.000000</td>\n",
       "      <td>0.000000</td>\n",
       "    </tr>\n",
       "    <tr>\n",
       "      <th>...</th>\n",
       "      <td>...</td>\n",
       "      <td>...</td>\n",
       "      <td>...</td>\n",
       "      <td>...</td>\n",
       "      <td>...</td>\n",
       "      <td>...</td>\n",
       "      <td>...</td>\n",
       "      <td>...</td>\n",
       "      <td>...</td>\n",
       "      <td>...</td>\n",
       "    </tr>\n",
       "    <tr>\n",
       "      <th>13325</th>\n",
       "      <td>ZWE</td>\n",
       "      <td>Africa</td>\n",
       "      <td>Sub-Saharan Africa</td>\n",
       "      <td>Eastern Africa</td>\n",
       "      <td>Zimbabwe</td>\n",
       "      <td>Países de ingreso mediano bajo</td>\n",
       "      <td>2017</td>\n",
       "      <td>1.758489e+10</td>\n",
       "      <td>17584.890937</td>\n",
       "      <td>4.080264</td>\n",
       "    </tr>\n",
       "    <tr>\n",
       "      <th>13326</th>\n",
       "      <td>ZWE</td>\n",
       "      <td>Africa</td>\n",
       "      <td>Sub-Saharan Africa</td>\n",
       "      <td>Eastern Africa</td>\n",
       "      <td>Zimbabwe</td>\n",
       "      <td>Países de ingreso mediano bajo</td>\n",
       "      <td>2018</td>\n",
       "      <td>3.415607e+10</td>\n",
       "      <td>34156.069918</td>\n",
       "      <td>5.009867</td>\n",
       "    </tr>\n",
       "    <tr>\n",
       "      <th>13327</th>\n",
       "      <td>ZWE</td>\n",
       "      <td>Africa</td>\n",
       "      <td>Sub-Saharan Africa</td>\n",
       "      <td>Eastern Africa</td>\n",
       "      <td>Zimbabwe</td>\n",
       "      <td>Países de ingreso mediano bajo</td>\n",
       "      <td>2019</td>\n",
       "      <td>2.183223e+10</td>\n",
       "      <td>21832.234926</td>\n",
       "      <td>-6.332446</td>\n",
       "    </tr>\n",
       "    <tr>\n",
       "      <th>13328</th>\n",
       "      <td>ZWE</td>\n",
       "      <td>Africa</td>\n",
       "      <td>Sub-Saharan Africa</td>\n",
       "      <td>Eastern Africa</td>\n",
       "      <td>Zimbabwe</td>\n",
       "      <td>Países de ingreso mediano bajo</td>\n",
       "      <td>2020</td>\n",
       "      <td>2.150970e+10</td>\n",
       "      <td>21509.698406</td>\n",
       "      <td>-7.816951</td>\n",
       "    </tr>\n",
       "    <tr>\n",
       "      <th>13329</th>\n",
       "      <td>ZWE</td>\n",
       "      <td>Africa</td>\n",
       "      <td>Sub-Saharan Africa</td>\n",
       "      <td>Eastern Africa</td>\n",
       "      <td>Zimbabwe</td>\n",
       "      <td>Países de ingreso mediano bajo</td>\n",
       "      <td>2021</td>\n",
       "      <td>2.837124e+10</td>\n",
       "      <td>28371.238666</td>\n",
       "      <td>8.468017</td>\n",
       "    </tr>\n",
       "  </tbody>\n",
       "</table>\n",
       "<p>13330 rows × 10 columns</p>\n",
       "</div>"
      ],
      "text/plain": [
       "      country_code region_name                  sub_region_name  \\\n",
       "0              ABW    Americas  Latin America and the Caribbean   \n",
       "1              ABW    Americas  Latin America and the Caribbean   \n",
       "2              ABW    Americas  Latin America and the Caribbean   \n",
       "3              ABW    Americas  Latin America and the Caribbean   \n",
       "4              ABW    Americas  Latin America and the Caribbean   \n",
       "...            ...         ...                              ...   \n",
       "13325          ZWE      Africa               Sub-Saharan Africa   \n",
       "13326          ZWE      Africa               Sub-Saharan Africa   \n",
       "13327          ZWE      Africa               Sub-Saharan Africa   \n",
       "13328          ZWE      Africa               Sub-Saharan Africa   \n",
       "13329          ZWE      Africa               Sub-Saharan Africa   \n",
       "\n",
       "      intermediate_region country_name                    income_group  year  \\\n",
       "0               Caribbean        Aruba                    Ingreso alto  1960   \n",
       "1               Caribbean        Aruba                    Ingreso alto  1961   \n",
       "2               Caribbean        Aruba                    Ingreso alto  1962   \n",
       "3               Caribbean        Aruba                    Ingreso alto  1963   \n",
       "4               Caribbean        Aruba                    Ingreso alto  1964   \n",
       "...                   ...          ...                             ...   ...   \n",
       "13325      Eastern Africa     Zimbabwe  Países de ingreso mediano bajo  2017   \n",
       "13326      Eastern Africa     Zimbabwe  Países de ingreso mediano bajo  2018   \n",
       "13327      Eastern Africa     Zimbabwe  Países de ingreso mediano bajo  2019   \n",
       "13328      Eastern Africa     Zimbabwe  Países de ingreso mediano bajo  2020   \n",
       "13329      Eastern Africa     Zimbabwe  Países de ingreso mediano bajo  2021   \n",
       "\n",
       "          total_gdp  total_gdp_million  gdp_variation  \n",
       "0      0.000000e+00           0.000000       0.000000  \n",
       "1      0.000000e+00           0.000000       0.000000  \n",
       "2      0.000000e+00           0.000000       0.000000  \n",
       "3      0.000000e+00           0.000000       0.000000  \n",
       "4      0.000000e+00           0.000000       0.000000  \n",
       "...             ...                ...            ...  \n",
       "13325  1.758489e+10       17584.890937       4.080264  \n",
       "13326  3.415607e+10       34156.069918       5.009867  \n",
       "13327  2.183223e+10       21832.234926      -6.332446  \n",
       "13328  2.150970e+10       21509.698406      -7.816951  \n",
       "13329  2.837124e+10       28371.238666       8.468017  \n",
       "\n",
       "[13330 rows x 10 columns]"
      ]
     },
     "execution_count": 14,
     "metadata": {},
     "output_type": "execute_result"
    }
   ],
   "source": [
    "df"
   ]
  },
  {
   "cell_type": "code",
   "execution_count": 17,
   "metadata": {},
   "outputs": [
    {
     "data": {
      "text/plain": [
       "<pandas.core.groupby.generic.DataFrameGroupBy object at 0x7f14e0248be0>"
      ]
     },
     "execution_count": 17,
     "metadata": {},
     "output_type": "execute_result"
    }
   ],
   "source": [
    "df.groupby(\"country_code\")"
   ]
  }
 ],
 "metadata": {
  "kernelspec": {
   "display_name": "Python 3",
   "language": "python",
   "name": "python3"
  },
  "language_info": {
   "codemirror_mode": {
    "name": "ipython",
    "version": 3
   },
   "file_extension": ".py",
   "mimetype": "text/x-python",
   "name": "python",
   "nbconvert_exporter": "python",
   "pygments_lexer": "ipython3",
   "version": "3.10.6"
  },
  "orig_nbformat": 4,
  "vscode": {
   "interpreter": {
    "hash": "c51e74775d170b674c683c3b472b24b6ebdce5fd524e4972620100024feb3ed5"
   }
  }
 },
 "nbformat": 4,
 "nbformat_minor": 2
}
